{
 "cells": [
  {
   "cell_type": "code",
   "execution_count": 1,
   "id": "ac1d7c62",
   "metadata": {
    "_cell_guid": "b1076dfc-b9ad-4769-8c92-a6c4dae69d19",
    "_uuid": "8f2839f25d086af736a60e9eeb907d3b93b6e0e5",
    "execution": {
     "iopub.execute_input": "2023-08-21T04:51:54.123307Z",
     "iopub.status.busy": "2023-08-21T04:51:54.122773Z",
     "iopub.status.idle": "2023-08-21T04:51:54.144829Z",
     "shell.execute_reply": "2023-08-21T04:51:54.143763Z"
    },
    "papermill": {
     "duration": 0.03665,
     "end_time": "2023-08-21T04:51:54.147131",
     "exception": false,
     "start_time": "2023-08-21T04:51:54.110481",
     "status": "completed"
    },
    "tags": []
   },
   "outputs": [
    {
     "name": "stdout",
     "output_type": "stream",
     "text": [
      "/kaggle/input/pm25-on-18082023/PM.csv\n",
      "/kaggle/input/pm25-on-18082023/Sensor.csv\n"
     ]
    }
   ],
   "source": [
    "# This Python 3 environment comes with many helpful analytics libraries installed\n",
    "# It is defined by the kaggle/python Docker image: https://github.com/kaggle/docker-python\n",
    "# For example, here's several helpful packages to load\n",
    "\n",
    "import numpy as np # linear algebra\n",
    "import pandas as pd # data processing, CSV file I/O (e.g. pd.read_csv)\n",
    "pd.options.mode.chained_assignment = None  # default='warn'\n",
    "# Input data files are available in the read-only \"../input/\" directory\n",
    "# For example, running this (by clicking run or pressing Shift+Enter) will list all files under the input directory\n",
    "\n",
    "import os\n",
    "for dirname, _, filenames in os.walk('/kaggle/input'):\n",
    "    for filename in filenames:\n",
    "        print(os.path.join(dirname, filename))\n",
    "\n",
    "# You can write up to 20GB to the current directory (/kaggle/working/) that gets preserved as output when you create a version using \"Save & Run All\" \n",
    "# You can also write temporary files to /kaggle/temp/, but they won't be saved outside of the current session"
   ]
  },
  {
   "cell_type": "markdown",
   "id": "baabe929",
   "metadata": {
    "papermill": {
     "duration": 0.00951,
     "end_time": "2023-08-21T04:51:54.166903",
     "exception": false,
     "start_time": "2023-08-21T04:51:54.157393",
     "status": "completed"
    },
    "tags": []
   },
   "source": [
    "# **Environment Setup**"
   ]
  },
  {
   "cell_type": "code",
   "execution_count": 2,
   "id": "6074c5ed",
   "metadata": {
    "execution": {
     "iopub.execute_input": "2023-08-21T04:51:54.190308Z",
     "iopub.status.busy": "2023-08-21T04:51:54.189872Z",
     "iopub.status.idle": "2023-08-21T04:52:26.957650Z",
     "shell.execute_reply": "2023-08-21T04:52:26.956416Z"
    },
    "papermill": {
     "duration": 32.79258,
     "end_time": "2023-08-21T04:52:26.969243",
     "exception": false,
     "start_time": "2023-08-21T04:51:54.176663",
     "status": "completed"
    },
    "tags": []
   },
   "outputs": [
    {
     "name": "stdout",
     "output_type": "stream",
     "text": [
      "Requirement already satisfied: xgboost in /opt/conda/lib/python3.10/site-packages (1.7.6)\r\n",
      "Requirement already satisfied: numpy in /opt/conda/lib/python3.10/site-packages (from xgboost) (1.23.5)\r\n",
      "Requirement already satisfied: scipy in /opt/conda/lib/python3.10/site-packages (from xgboost) (1.11.1)\r\n",
      "Note: you may need to restart the kernel to use updated packages.\n"
     ]
    }
   ],
   "source": [
    "pip install xgboost"
   ]
  },
  {
   "cell_type": "code",
   "execution_count": 3,
   "id": "672d7d57",
   "metadata": {
    "execution": {
     "iopub.execute_input": "2023-08-21T04:52:26.991126Z",
     "iopub.status.busy": "2023-08-21T04:52:26.990648Z",
     "iopub.status.idle": "2023-08-21T04:52:28.950779Z",
     "shell.execute_reply": "2023-08-21T04:52:28.949817Z"
    },
    "papermill": {
     "duration": 1.974157,
     "end_time": "2023-08-21T04:52:28.953227",
     "exception": false,
     "start_time": "2023-08-21T04:52:26.979070",
     "status": "completed"
    },
    "tags": []
   },
   "outputs": [
    {
     "name": "stderr",
     "output_type": "stream",
     "text": [
      "/opt/conda/lib/python3.10/site-packages/scipy/__init__.py:146: UserWarning: A NumPy version >=1.16.5 and <1.23.0 is required for this version of SciPy (detected version 1.23.5\n",
      "  warnings.warn(f\"A NumPy version >={np_minversion} and <{np_maxversion}\"\n"
     ]
    }
   ],
   "source": [
    "import seaborn as sns\n",
    "import matplotlib.pyplot as plt\n",
    "import math\n",
    "import sklearn\n",
    "from sklearn.linear_model import LinearRegression\n",
    "from sklearn.metrics import mean_squared_error\n",
    "import xgboost"
   ]
  },
  {
   "cell_type": "markdown",
   "id": "de9ce486",
   "metadata": {
    "papermill": {
     "duration": 0.009261,
     "end_time": "2023-08-21T04:52:28.972648",
     "exception": false,
     "start_time": "2023-08-21T04:52:28.963387",
     "status": "completed"
    },
    "tags": []
   },
   "source": [
    "# **Import The dataset**"
   ]
  },
  {
   "cell_type": "markdown",
   "id": "d4442671",
   "metadata": {
    "papermill": {
     "duration": 0.009254,
     "end_time": "2023-08-21T04:52:28.991724",
     "exception": false,
     "start_time": "2023-08-21T04:52:28.982470",
     "status": "completed"
    },
    "tags": []
   },
   "source": [
    "This is the sensors and its pollution measurements of ever sensors in Thailand regarding to CUSENSE.NET API of October 18th, 2023. Now, We have **import the data** to the environment and **pre-processing them.**"
   ]
  },
  {
   "cell_type": "code",
   "execution_count": 4,
   "id": "5f3e5222",
   "metadata": {
    "execution": {
     "iopub.execute_input": "2023-08-21T04:52:29.014030Z",
     "iopub.status.busy": "2023-08-21T04:52:29.012563Z",
     "iopub.status.idle": "2023-08-21T04:52:29.051164Z",
     "shell.execute_reply": "2023-08-21T04:52:29.050161Z"
    },
    "papermill": {
     "duration": 0.052192,
     "end_time": "2023-08-21T04:52:29.053598",
     "exception": false,
     "start_time": "2023-08-21T04:52:29.001406",
     "status": "completed"
    },
    "tags": []
   },
   "outputs": [],
   "source": [
    "pm = pd.read_csv('/kaggle/input/pm25-on-18082023/PM.csv')\n",
    "sen = pd.read_csv('/kaggle/input/pm25-on-18082023/Sensor.csv')"
   ]
  },
  {
   "cell_type": "code",
   "execution_count": 5,
   "id": "4a643de9",
   "metadata": {
    "execution": {
     "iopub.execute_input": "2023-08-21T04:52:29.076044Z",
     "iopub.status.busy": "2023-08-21T04:52:29.075361Z",
     "iopub.status.idle": "2023-08-21T04:52:29.104201Z",
     "shell.execute_reply": "2023-08-21T04:52:29.102999Z"
    },
    "papermill": {
     "duration": 0.04268,
     "end_time": "2023-08-21T04:52:29.106510",
     "exception": false,
     "start_time": "2023-08-21T04:52:29.063830",
     "status": "completed"
    },
    "tags": []
   },
   "outputs": [
    {
     "data": {
      "text/html": [
       "<div>\n",
       "<style scoped>\n",
       "    .dataframe tbody tr th:only-of-type {\n",
       "        vertical-align: middle;\n",
       "    }\n",
       "\n",
       "    .dataframe tbody tr th {\n",
       "        vertical-align: top;\n",
       "    }\n",
       "\n",
       "    .dataframe thead th {\n",
       "        text-align: right;\n",
       "    }\n",
       "</style>\n",
       "<table border=\"1\" class=\"dataframe\">\n",
       "  <thead>\n",
       "    <tr style=\"text-align: right;\">\n",
       "      <th></th>\n",
       "      <th>Sensor</th>\n",
       "      <th>Time</th>\n",
       "      <th>PM2.5</th>\n",
       "      <th>PM10</th>\n",
       "      <th>Temp</th>\n",
       "      <th>Humid</th>\n",
       "    </tr>\n",
       "  </thead>\n",
       "  <tbody>\n",
       "    <tr>\n",
       "      <th>0</th>\n",
       "      <td>cusensor2/0424D01F9C9C</td>\n",
       "      <td>2023-08-18T14:00:00.000Z</td>\n",
       "      <td>0</td>\n",
       "      <td>1.0</td>\n",
       "      <td>29.4</td>\n",
       "      <td>55.0</td>\n",
       "    </tr>\n",
       "    <tr>\n",
       "      <th>1</th>\n",
       "      <td>cusensor2/0C44F5C40A24</td>\n",
       "      <td>2023-08-18T14:00:00.000Z</td>\n",
       "      <td>2</td>\n",
       "      <td>7.0</td>\n",
       "      <td>33.4</td>\n",
       "      <td>47.0</td>\n",
       "    </tr>\n",
       "    <tr>\n",
       "      <th>2</th>\n",
       "      <td>cusensor2/40F5203F0828</td>\n",
       "      <td>2023-08-18T14:00:00.000Z</td>\n",
       "      <td>3</td>\n",
       "      <td>8.0</td>\n",
       "      <td>26.9</td>\n",
       "      <td>78.0</td>\n",
       "    </tr>\n",
       "    <tr>\n",
       "      <th>3</th>\n",
       "      <td>cusensor2/40F5203F7FBF</td>\n",
       "      <td>2023-08-18T14:00:00.000Z</td>\n",
       "      <td>2</td>\n",
       "      <td>6.0</td>\n",
       "      <td>29.1</td>\n",
       "      <td>43.0</td>\n",
       "    </tr>\n",
       "    <tr>\n",
       "      <th>4</th>\n",
       "      <td>cusensor2/40F5203F88E0</td>\n",
       "      <td>2023-08-18T14:00:00.000Z</td>\n",
       "      <td>2</td>\n",
       "      <td>7.0</td>\n",
       "      <td>26.2</td>\n",
       "      <td>62.0</td>\n",
       "    </tr>\n",
       "    <tr>\n",
       "      <th>...</th>\n",
       "      <td>...</td>\n",
       "      <td>...</td>\n",
       "      <td>...</td>\n",
       "      <td>...</td>\n",
       "      <td>...</td>\n",
       "      <td>...</td>\n",
       "    </tr>\n",
       "    <tr>\n",
       "      <th>246</th>\n",
       "      <td>nansensor/CU-S0079</td>\n",
       "      <td>2023-08-18T14:00:00.000Z</td>\n",
       "      <td>6</td>\n",
       "      <td>7.0</td>\n",
       "      <td>34.8</td>\n",
       "      <td>55.0</td>\n",
       "    </tr>\n",
       "    <tr>\n",
       "      <th>247</th>\n",
       "      <td>nansensor/CU-S0081</td>\n",
       "      <td>2023-08-18T14:00:00.000Z</td>\n",
       "      <td>8</td>\n",
       "      <td>8.0</td>\n",
       "      <td>35.9</td>\n",
       "      <td>60.0</td>\n",
       "    </tr>\n",
       "    <tr>\n",
       "      <th>248</th>\n",
       "      <td>nansensor/CU-S0085</td>\n",
       "      <td>2023-08-18T14:00:00.000Z</td>\n",
       "      <td>6</td>\n",
       "      <td>7.0</td>\n",
       "      <td>36.6</td>\n",
       "      <td>59.0</td>\n",
       "    </tr>\n",
       "    <tr>\n",
       "      <th>249</th>\n",
       "      <td>nansensor/CU-S0098</td>\n",
       "      <td>2023-08-18T14:00:00.000Z</td>\n",
       "      <td>10</td>\n",
       "      <td>10.0</td>\n",
       "      <td>36.1</td>\n",
       "      <td>60.0</td>\n",
       "    </tr>\n",
       "    <tr>\n",
       "      <th>250</th>\n",
       "      <td>PTT/ptt.mainoffice</td>\n",
       "      <td>2023-08-18T14:00:00.000Z</td>\n",
       "      <td>4</td>\n",
       "      <td>NaN</td>\n",
       "      <td>32.5</td>\n",
       "      <td>65.0</td>\n",
       "    </tr>\n",
       "  </tbody>\n",
       "</table>\n",
       "<p>251 rows × 6 columns</p>\n",
       "</div>"
      ],
      "text/plain": [
       "                     Sensor                      Time  PM2.5  PM10  Temp  \\\n",
       "0    cusensor2/0424D01F9C9C  2023-08-18T14:00:00.000Z      0   1.0  29.4   \n",
       "1    cusensor2/0C44F5C40A24  2023-08-18T14:00:00.000Z      2   7.0  33.4   \n",
       "2    cusensor2/40F5203F0828  2023-08-18T14:00:00.000Z      3   8.0  26.9   \n",
       "3    cusensor2/40F5203F7FBF  2023-08-18T14:00:00.000Z      2   6.0  29.1   \n",
       "4    cusensor2/40F5203F88E0  2023-08-18T14:00:00.000Z      2   7.0  26.2   \n",
       "..                      ...                       ...    ...   ...   ...   \n",
       "246      nansensor/CU-S0079  2023-08-18T14:00:00.000Z      6   7.0  34.8   \n",
       "247      nansensor/CU-S0081  2023-08-18T14:00:00.000Z      8   8.0  35.9   \n",
       "248      nansensor/CU-S0085  2023-08-18T14:00:00.000Z      6   7.0  36.6   \n",
       "249      nansensor/CU-S0098  2023-08-18T14:00:00.000Z     10  10.0  36.1   \n",
       "250      PTT/ptt.mainoffice  2023-08-18T14:00:00.000Z      4   NaN  32.5   \n",
       "\n",
       "     Humid  \n",
       "0     55.0  \n",
       "1     47.0  \n",
       "2     78.0  \n",
       "3     43.0  \n",
       "4     62.0  \n",
       "..     ...  \n",
       "246   55.0  \n",
       "247   60.0  \n",
       "248   59.0  \n",
       "249   60.0  \n",
       "250   65.0  \n",
       "\n",
       "[251 rows x 6 columns]"
      ]
     },
     "execution_count": 5,
     "metadata": {},
     "output_type": "execute_result"
    }
   ],
   "source": [
    "pm"
   ]
  },
  {
   "cell_type": "code",
   "execution_count": 6,
   "id": "cfbda364",
   "metadata": {
    "execution": {
     "iopub.execute_input": "2023-08-21T04:52:29.128418Z",
     "iopub.status.busy": "2023-08-21T04:52:29.127988Z",
     "iopub.status.idle": "2023-08-21T04:52:29.150227Z",
     "shell.execute_reply": "2023-08-21T04:52:29.149075Z"
    },
    "papermill": {
     "duration": 0.036159,
     "end_time": "2023-08-21T04:52:29.152758",
     "exception": false,
     "start_time": "2023-08-21T04:52:29.116599",
     "status": "completed"
    },
    "tags": []
   },
   "outputs": [
    {
     "data": {
      "text/html": [
       "<div>\n",
       "<style scoped>\n",
       "    .dataframe tbody tr th:only-of-type {\n",
       "        vertical-align: middle;\n",
       "    }\n",
       "\n",
       "    .dataframe tbody tr th {\n",
       "        vertical-align: top;\n",
       "    }\n",
       "\n",
       "    .dataframe thead th {\n",
       "        text-align: right;\n",
       "    }\n",
       "</style>\n",
       "<table border=\"1\" class=\"dataframe\">\n",
       "  <thead>\n",
       "    <tr style=\"text-align: right;\">\n",
       "      <th></th>\n",
       "      <th>Sensor</th>\n",
       "      <th>Name</th>\n",
       "      <th>Lat</th>\n",
       "      <th>Lon</th>\n",
       "      <th>Prov</th>\n",
       "    </tr>\n",
       "  </thead>\n",
       "  <tbody>\n",
       "    <tr>\n",
       "      <th>0</th>\n",
       "      <td>cusensor/CU-01</td>\n",
       "      <td>ภาควิชาวิศวกรรมสิ่งแวดล้อม, จุฬา</td>\n",
       "      <td>13.735661</td>\n",
       "      <td>100.532588</td>\n",
       "      <td>กรุงเทพ</td>\n",
       "    </tr>\n",
       "    <tr>\n",
       "      <th>1</th>\n",
       "      <td>cusensor/CU-S0203</td>\n",
       "      <td>Institute of Technology of Cambodia (ITC)</td>\n",
       "      <td>11.570522</td>\n",
       "      <td>104.896714</td>\n",
       "      <td>Phnom Penh</td>\n",
       "    </tr>\n",
       "    <tr>\n",
       "      <th>2</th>\n",
       "      <td>cusensor/MET.SK.TEEGA</td>\n",
       "      <td>ฝายตีกา</td>\n",
       "      <td>14.918769</td>\n",
       "      <td>104.137828</td>\n",
       "      <td>ศรีสะเกษ</td>\n",
       "    </tr>\n",
       "    <tr>\n",
       "      <th>3</th>\n",
       "      <td>cusensor/RKN-001</td>\n",
       "      <td>Resident House (RS)</td>\n",
       "      <td>11.580575</td>\n",
       "      <td>104.930686</td>\n",
       "      <td>Phnom Penh</td>\n",
       "    </tr>\n",
       "    <tr>\n",
       "      <th>4</th>\n",
       "      <td>cusensor/RKN-002</td>\n",
       "      <td>Phnom Penh Special Economic Zone (PPSEZ)</td>\n",
       "      <td>11.476056</td>\n",
       "      <td>104.784333</td>\n",
       "      <td>Phnom Penh</td>\n",
       "    </tr>\n",
       "    <tr>\n",
       "      <th>...</th>\n",
       "      <td>...</td>\n",
       "      <td>...</td>\n",
       "      <td>...</td>\n",
       "      <td>...</td>\n",
       "      <td>...</td>\n",
       "    </tr>\n",
       "    <tr>\n",
       "      <th>1247</th>\n",
       "      <td>sensor4all/868333032109270</td>\n",
       "      <td>คุณสายชล สันเขื่อนสิริกิติ์</td>\n",
       "      <td>17.767062</td>\n",
       "      <td>100.566225</td>\n",
       "      <td>NaN</td>\n",
       "    </tr>\n",
       "    <tr>\n",
       "      <th>1248</th>\n",
       "      <td>sensor4all/868333032109486</td>\n",
       "      <td>ร้านจ่าจ้า คอฟฟี่</td>\n",
       "      <td>9.956770</td>\n",
       "      <td>98.639105</td>\n",
       "      <td>NaN</td>\n",
       "    </tr>\n",
       "    <tr>\n",
       "      <th>1249</th>\n",
       "      <td>sensor4all/868333032109833</td>\n",
       "      <td>สำนักงานพลังงานจังหวัดราชบุรี</td>\n",
       "      <td>13.570139</td>\n",
       "      <td>99.730514</td>\n",
       "      <td>NaN</td>\n",
       "    </tr>\n",
       "    <tr>\n",
       "      <th>1250</th>\n",
       "      <td>sensor4all/868333032109965</td>\n",
       "      <td>โรงเรียนสงวนหญิง</td>\n",
       "      <td>14.484932</td>\n",
       "      <td>100.123852</td>\n",
       "      <td>NaN</td>\n",
       "    </tr>\n",
       "    <tr>\n",
       "      <th>1251</th>\n",
       "      <td>sensor4all/868333032110062</td>\n",
       "      <td>สนามกีฬาเทศบาลนครแหลมฉบัง</td>\n",
       "      <td>13.118055</td>\n",
       "      <td>100.918070</td>\n",
       "      <td>NaN</td>\n",
       "    </tr>\n",
       "  </tbody>\n",
       "</table>\n",
       "<p>1252 rows × 5 columns</p>\n",
       "</div>"
      ],
      "text/plain": [
       "                          Sensor                                       Name  \\\n",
       "0                 cusensor/CU-01           ภาควิชาวิศวกรรมสิ่งแวดล้อม, จุฬา   \n",
       "1              cusensor/CU-S0203  Institute of Technology of Cambodia (ITC)   \n",
       "2          cusensor/MET.SK.TEEGA                                    ฝายตีกา   \n",
       "3               cusensor/RKN-001                        Resident House (RS)   \n",
       "4               cusensor/RKN-002   Phnom Penh Special Economic Zone (PPSEZ)   \n",
       "...                          ...                                        ...   \n",
       "1247  sensor4all/868333032109270                คุณสายชล สันเขื่อนสิริกิติ์   \n",
       "1248  sensor4all/868333032109486                          ร้านจ่าจ้า คอฟฟี่   \n",
       "1249  sensor4all/868333032109833              สำนักงานพลังงานจังหวัดราชบุรี   \n",
       "1250  sensor4all/868333032109965                           โรงเรียนสงวนหญิง   \n",
       "1251  sensor4all/868333032110062                  สนามกีฬาเทศบาลนครแหลมฉบัง   \n",
       "\n",
       "            Lat         Lon        Prov  \n",
       "0     13.735661  100.532588     กรุงเทพ  \n",
       "1     11.570522  104.896714  Phnom Penh  \n",
       "2     14.918769  104.137828    ศรีสะเกษ  \n",
       "3     11.580575  104.930686  Phnom Penh  \n",
       "4     11.476056  104.784333  Phnom Penh  \n",
       "...         ...         ...         ...  \n",
       "1247  17.767062  100.566225         NaN  \n",
       "1248   9.956770   98.639105         NaN  \n",
       "1249  13.570139   99.730514         NaN  \n",
       "1250  14.484932  100.123852         NaN  \n",
       "1251  13.118055  100.918070         NaN  \n",
       "\n",
       "[1252 rows x 5 columns]"
      ]
     },
     "execution_count": 6,
     "metadata": {},
     "output_type": "execute_result"
    }
   ],
   "source": [
    "sen"
   ]
  },
  {
   "cell_type": "code",
   "execution_count": 7,
   "id": "d28b3afe",
   "metadata": {
    "execution": {
     "iopub.execute_input": "2023-08-21T04:52:29.176288Z",
     "iopub.status.busy": "2023-08-21T04:52:29.175810Z",
     "iopub.status.idle": "2023-08-21T04:52:29.185815Z",
     "shell.execute_reply": "2023-08-21T04:52:29.184889Z"
    },
    "papermill": {
     "duration": 0.024022,
     "end_time": "2023-08-21T04:52:29.187815",
     "exception": false,
     "start_time": "2023-08-21T04:52:29.163793",
     "status": "completed"
    },
    "tags": []
   },
   "outputs": [
    {
     "data": {
      "text/plain": [
       "1252"
      ]
     },
     "execution_count": 7,
     "metadata": {},
     "output_type": "execute_result"
    }
   ],
   "source": [
    "# count for unique amount of sensors\n",
    "sen['Sensor'].nunique()"
   ]
  },
  {
   "cell_type": "code",
   "execution_count": 8,
   "id": "ec333edb",
   "metadata": {
    "execution": {
     "iopub.execute_input": "2023-08-21T04:52:29.210881Z",
     "iopub.status.busy": "2023-08-21T04:52:29.210476Z",
     "iopub.status.idle": "2023-08-21T04:52:29.224055Z",
     "shell.execute_reply": "2023-08-21T04:52:29.222656Z"
    },
    "papermill": {
     "duration": 0.027782,
     "end_time": "2023-08-21T04:52:29.226426",
     "exception": false,
     "start_time": "2023-08-21T04:52:29.198644",
     "status": "completed"
    },
    "tags": []
   },
   "outputs": [
    {
     "data": {
      "text/plain": [
       "น่าน          125\n",
       "กรุงเทพ        53\n",
       "Phnom Penh      4\n",
       "ลำพูน           2\n",
       "ศรีสะเกษ        1\n",
       "สมุทรสาคร       1\n",
       "เชียงใหม่       1\n",
       "ระยอง           1\n",
       "Name: Prov, dtype: int64"
      ]
     },
     "execution_count": 8,
     "metadata": {},
     "output_type": "execute_result"
    }
   ],
   "source": [
    "sen['Prov'].value_counts()"
   ]
  },
  {
   "cell_type": "markdown",
   "id": "0e0437cc",
   "metadata": {
    "papermill": {
     "duration": 0.010211,
     "end_time": "2023-08-21T04:52:29.247241",
     "exception": false,
     "start_time": "2023-08-21T04:52:29.237030",
     "status": "completed"
    },
    "tags": []
   },
   "source": [
    "# **Preprocessing Data**"
   ]
  },
  {
   "cell_type": "markdown",
   "id": "3b2feb8e",
   "metadata": {
    "papermill": {
     "duration": 0.010199,
     "end_time": "2023-08-21T04:52:29.267976",
     "exception": false,
     "start_time": "2023-08-21T04:52:29.257777",
     "status": "completed"
    },
    "tags": []
   },
   "source": [
    "First, we have to join two datasets we have with primary keys (Sensor) to create one table with all columns merging."
   ]
  },
  {
   "cell_type": "code",
   "execution_count": 9,
   "id": "36c794fe",
   "metadata": {
    "execution": {
     "iopub.execute_input": "2023-08-21T04:52:29.291717Z",
     "iopub.status.busy": "2023-08-21T04:52:29.291229Z",
     "iopub.status.idle": "2023-08-21T04:52:29.310794Z",
     "shell.execute_reply": "2023-08-21T04:52:29.309943Z"
    },
    "papermill": {
     "duration": 0.034122,
     "end_time": "2023-08-21T04:52:29.313145",
     "exception": false,
     "start_time": "2023-08-21T04:52:29.279023",
     "status": "completed"
    },
    "tags": []
   },
   "outputs": [],
   "source": [
    "merge = pd.merge(pm, sen, on=\"Sensor\", how = 'outer')"
   ]
  },
  {
   "cell_type": "code",
   "execution_count": 10,
   "id": "39c455b7",
   "metadata": {
    "execution": {
     "iopub.execute_input": "2023-08-21T04:52:29.337111Z",
     "iopub.status.busy": "2023-08-21T04:52:29.336491Z",
     "iopub.status.idle": "2023-08-21T04:52:29.357925Z",
     "shell.execute_reply": "2023-08-21T04:52:29.356818Z"
    },
    "papermill": {
     "duration": 0.03613,
     "end_time": "2023-08-21T04:52:29.360369",
     "exception": false,
     "start_time": "2023-08-21T04:52:29.324239",
     "status": "completed"
    },
    "tags": []
   },
   "outputs": [
    {
     "data": {
      "text/html": [
       "<div>\n",
       "<style scoped>\n",
       "    .dataframe tbody tr th:only-of-type {\n",
       "        vertical-align: middle;\n",
       "    }\n",
       "\n",
       "    .dataframe tbody tr th {\n",
       "        vertical-align: top;\n",
       "    }\n",
       "\n",
       "    .dataframe thead th {\n",
       "        text-align: right;\n",
       "    }\n",
       "</style>\n",
       "<table border=\"1\" class=\"dataframe\">\n",
       "  <thead>\n",
       "    <tr style=\"text-align: right;\">\n",
       "      <th></th>\n",
       "      <th>Sensor</th>\n",
       "      <th>Time</th>\n",
       "      <th>PM2.5</th>\n",
       "      <th>PM10</th>\n",
       "      <th>Temp</th>\n",
       "      <th>Humid</th>\n",
       "      <th>Name</th>\n",
       "      <th>Lat</th>\n",
       "      <th>Lon</th>\n",
       "      <th>Prov</th>\n",
       "    </tr>\n",
       "  </thead>\n",
       "  <tbody>\n",
       "    <tr>\n",
       "      <th>0</th>\n",
       "      <td>cusensor2/0424D01F9C9C</td>\n",
       "      <td>2023-08-18T14:00:00.000Z</td>\n",
       "      <td>0.0</td>\n",
       "      <td>1.0</td>\n",
       "      <td>29.4</td>\n",
       "      <td>55.0</td>\n",
       "      <td>จามจุรี 5 ชั้น 3</td>\n",
       "      <td>13.738300</td>\n",
       "      <td>100.528816</td>\n",
       "      <td>กรุงเทพ</td>\n",
       "    </tr>\n",
       "    <tr>\n",
       "      <th>1</th>\n",
       "      <td>cusensor2/0C44F5C40A24</td>\n",
       "      <td>2023-08-18T14:00:00.000Z</td>\n",
       "      <td>2.0</td>\n",
       "      <td>7.0</td>\n",
       "      <td>33.4</td>\n",
       "      <td>47.0</td>\n",
       "      <td>จามจุรี 10 ชั้น 11</td>\n",
       "      <td>13.742675</td>\n",
       "      <td>100.528077</td>\n",
       "      <td>กรุงเทพ</td>\n",
       "    </tr>\n",
       "    <tr>\n",
       "      <th>2</th>\n",
       "      <td>cusensor2/40F5203F0828</td>\n",
       "      <td>2023-08-18T14:00:00.000Z</td>\n",
       "      <td>3.0</td>\n",
       "      <td>8.0</td>\n",
       "      <td>26.9</td>\n",
       "      <td>78.0</td>\n",
       "      <td>ห้องปฏิบัติการเคมี สถาบันวิจัยสภาวะแวดล้อม (In...</td>\n",
       "      <td>13.742930</td>\n",
       "      <td>100.532150</td>\n",
       "      <td>กรุงเทพ</td>\n",
       "    </tr>\n",
       "    <tr>\n",
       "      <th>3</th>\n",
       "      <td>cusensor2/40F5203F7FBF</td>\n",
       "      <td>2023-08-18T14:00:00.000Z</td>\n",
       "      <td>2.0</td>\n",
       "      <td>6.0</td>\n",
       "      <td>29.1</td>\n",
       "      <td>43.0</td>\n",
       "      <td>ภาควิชาเคมีเทคนิค ชั้น ห้อง 1810 อาคารมหามกุฎ ...</td>\n",
       "      <td>13.736020</td>\n",
       "      <td>100.530590</td>\n",
       "      <td>กรุงเทพ</td>\n",
       "    </tr>\n",
       "    <tr>\n",
       "      <th>4</th>\n",
       "      <td>cusensor2/40F5203F88E0</td>\n",
       "      <td>2023-08-18T14:00:00.000Z</td>\n",
       "      <td>2.0</td>\n",
       "      <td>7.0</td>\n",
       "      <td>26.2</td>\n",
       "      <td>62.0</td>\n",
       "      <td>EDS Program (Indoor)</td>\n",
       "      <td>13.742830</td>\n",
       "      <td>100.528250</td>\n",
       "      <td>กรุงเทพ</td>\n",
       "    </tr>\n",
       "    <tr>\n",
       "      <th>...</th>\n",
       "      <td>...</td>\n",
       "      <td>...</td>\n",
       "      <td>...</td>\n",
       "      <td>...</td>\n",
       "      <td>...</td>\n",
       "      <td>...</td>\n",
       "      <td>...</td>\n",
       "      <td>...</td>\n",
       "      <td>...</td>\n",
       "      <td>...</td>\n",
       "    </tr>\n",
       "    <tr>\n",
       "      <th>1247</th>\n",
       "      <td>sensor4all/868333032109270</td>\n",
       "      <td>NaN</td>\n",
       "      <td>NaN</td>\n",
       "      <td>NaN</td>\n",
       "      <td>NaN</td>\n",
       "      <td>NaN</td>\n",
       "      <td>คุณสายชล สันเขื่อนสิริกิติ์</td>\n",
       "      <td>17.767062</td>\n",
       "      <td>100.566225</td>\n",
       "      <td>NaN</td>\n",
       "    </tr>\n",
       "    <tr>\n",
       "      <th>1248</th>\n",
       "      <td>sensor4all/868333032109486</td>\n",
       "      <td>NaN</td>\n",
       "      <td>NaN</td>\n",
       "      <td>NaN</td>\n",
       "      <td>NaN</td>\n",
       "      <td>NaN</td>\n",
       "      <td>ร้านจ่าจ้า คอฟฟี่</td>\n",
       "      <td>9.956770</td>\n",
       "      <td>98.639105</td>\n",
       "      <td>NaN</td>\n",
       "    </tr>\n",
       "    <tr>\n",
       "      <th>1249</th>\n",
       "      <td>sensor4all/868333032109833</td>\n",
       "      <td>NaN</td>\n",
       "      <td>NaN</td>\n",
       "      <td>NaN</td>\n",
       "      <td>NaN</td>\n",
       "      <td>NaN</td>\n",
       "      <td>สำนักงานพลังงานจังหวัดราชบุรี</td>\n",
       "      <td>13.570139</td>\n",
       "      <td>99.730514</td>\n",
       "      <td>NaN</td>\n",
       "    </tr>\n",
       "    <tr>\n",
       "      <th>1250</th>\n",
       "      <td>sensor4all/868333032109965</td>\n",
       "      <td>NaN</td>\n",
       "      <td>NaN</td>\n",
       "      <td>NaN</td>\n",
       "      <td>NaN</td>\n",
       "      <td>NaN</td>\n",
       "      <td>โรงเรียนสงวนหญิง</td>\n",
       "      <td>14.484932</td>\n",
       "      <td>100.123852</td>\n",
       "      <td>NaN</td>\n",
       "    </tr>\n",
       "    <tr>\n",
       "      <th>1251</th>\n",
       "      <td>sensor4all/868333032110062</td>\n",
       "      <td>NaN</td>\n",
       "      <td>NaN</td>\n",
       "      <td>NaN</td>\n",
       "      <td>NaN</td>\n",
       "      <td>NaN</td>\n",
       "      <td>สนามกีฬาเทศบาลนครแหลมฉบัง</td>\n",
       "      <td>13.118055</td>\n",
       "      <td>100.918070</td>\n",
       "      <td>NaN</td>\n",
       "    </tr>\n",
       "  </tbody>\n",
       "</table>\n",
       "<p>1252 rows × 10 columns</p>\n",
       "</div>"
      ],
      "text/plain": [
       "                          Sensor                      Time  PM2.5  PM10  Temp  \\\n",
       "0         cusensor2/0424D01F9C9C  2023-08-18T14:00:00.000Z    0.0   1.0  29.4   \n",
       "1         cusensor2/0C44F5C40A24  2023-08-18T14:00:00.000Z    2.0   7.0  33.4   \n",
       "2         cusensor2/40F5203F0828  2023-08-18T14:00:00.000Z    3.0   8.0  26.9   \n",
       "3         cusensor2/40F5203F7FBF  2023-08-18T14:00:00.000Z    2.0   6.0  29.1   \n",
       "4         cusensor2/40F5203F88E0  2023-08-18T14:00:00.000Z    2.0   7.0  26.2   \n",
       "...                          ...                       ...    ...   ...   ...   \n",
       "1247  sensor4all/868333032109270                       NaN    NaN   NaN   NaN   \n",
       "1248  sensor4all/868333032109486                       NaN    NaN   NaN   NaN   \n",
       "1249  sensor4all/868333032109833                       NaN    NaN   NaN   NaN   \n",
       "1250  sensor4all/868333032109965                       NaN    NaN   NaN   NaN   \n",
       "1251  sensor4all/868333032110062                       NaN    NaN   NaN   NaN   \n",
       "\n",
       "      Humid                                               Name        Lat  \\\n",
       "0      55.0                                   จามจุรี 5 ชั้น 3  13.738300   \n",
       "1      47.0                                 จามจุรี 10 ชั้น 11  13.742675   \n",
       "2      78.0  ห้องปฏิบัติการเคมี สถาบันวิจัยสภาวะแวดล้อม (In...  13.742930   \n",
       "3      43.0  ภาควิชาเคมีเทคนิค ชั้น ห้อง 1810 อาคารมหามกุฎ ...  13.736020   \n",
       "4      62.0                               EDS Program (Indoor)  13.742830   \n",
       "...     ...                                                ...        ...   \n",
       "1247    NaN                        คุณสายชล สันเขื่อนสิริกิติ์  17.767062   \n",
       "1248    NaN                                  ร้านจ่าจ้า คอฟฟี่   9.956770   \n",
       "1249    NaN                      สำนักงานพลังงานจังหวัดราชบุรี  13.570139   \n",
       "1250    NaN                                   โรงเรียนสงวนหญิง  14.484932   \n",
       "1251    NaN                          สนามกีฬาเทศบาลนครแหลมฉบัง  13.118055   \n",
       "\n",
       "             Lon     Prov  \n",
       "0     100.528816  กรุงเทพ  \n",
       "1     100.528077  กรุงเทพ  \n",
       "2     100.532150  กรุงเทพ  \n",
       "3     100.530590  กรุงเทพ  \n",
       "4     100.528250  กรุงเทพ  \n",
       "...          ...      ...  \n",
       "1247  100.566225      NaN  \n",
       "1248   98.639105      NaN  \n",
       "1249   99.730514      NaN  \n",
       "1250  100.123852      NaN  \n",
       "1251  100.918070      NaN  \n",
       "\n",
       "[1252 rows x 10 columns]"
      ]
     },
     "execution_count": 10,
     "metadata": {},
     "output_type": "execute_result"
    }
   ],
   "source": [
    "merge"
   ]
  },
  {
   "cell_type": "markdown",
   "id": "06660a94",
   "metadata": {
    "papermill": {
     "duration": 0.010907,
     "end_time": "2023-08-21T04:52:29.382516",
     "exception": false,
     "start_time": "2023-08-21T04:52:29.371609",
     "status": "completed"
    },
    "tags": []
   },
   "source": [
    "Now, we got our merge dataset.\n",
    "In the next step, we will focus on data cleaning process. dealing with null data, duplicate, unusual formatting etc."
   ]
  },
  {
   "cell_type": "code",
   "execution_count": 11,
   "id": "543841e2",
   "metadata": {
    "execution": {
     "iopub.execute_input": "2023-08-21T04:52:29.406336Z",
     "iopub.status.busy": "2023-08-21T04:52:29.405812Z",
     "iopub.status.idle": "2023-08-21T04:52:29.414293Z",
     "shell.execute_reply": "2023-08-21T04:52:29.413516Z"
    },
    "papermill": {
     "duration": 0.022808,
     "end_time": "2023-08-21T04:52:29.416318",
     "exception": false,
     "start_time": "2023-08-21T04:52:29.393510",
     "status": "completed"
    },
    "tags": []
   },
   "outputs": [],
   "source": [
    "# extract only valid pm data from station - handling missing data\n",
    "merge1 = merge.loc[merge['PM2.5'].isnull() == False]\n",
    "merge2 = merge1.loc[merge['PM10'].isnull() == False]"
   ]
  },
  {
   "cell_type": "code",
   "execution_count": 12,
   "id": "e3cb7f23",
   "metadata": {
    "execution": {
     "iopub.execute_input": "2023-08-21T04:52:29.441143Z",
     "iopub.status.busy": "2023-08-21T04:52:29.440161Z",
     "iopub.status.idle": "2023-08-21T04:52:29.460995Z",
     "shell.execute_reply": "2023-08-21T04:52:29.459971Z"
    },
    "papermill": {
     "duration": 0.036514,
     "end_time": "2023-08-21T04:52:29.463888",
     "exception": false,
     "start_time": "2023-08-21T04:52:29.427374",
     "status": "completed"
    },
    "tags": []
   },
   "outputs": [
    {
     "data": {
      "text/html": [
       "<div>\n",
       "<style scoped>\n",
       "    .dataframe tbody tr th:only-of-type {\n",
       "        vertical-align: middle;\n",
       "    }\n",
       "\n",
       "    .dataframe tbody tr th {\n",
       "        vertical-align: top;\n",
       "    }\n",
       "\n",
       "    .dataframe thead th {\n",
       "        text-align: right;\n",
       "    }\n",
       "</style>\n",
       "<table border=\"1\" class=\"dataframe\">\n",
       "  <thead>\n",
       "    <tr style=\"text-align: right;\">\n",
       "      <th></th>\n",
       "      <th>Sensor</th>\n",
       "      <th>Time</th>\n",
       "      <th>PM2.5</th>\n",
       "      <th>PM10</th>\n",
       "      <th>Temp</th>\n",
       "      <th>Humid</th>\n",
       "      <th>Name</th>\n",
       "      <th>Lat</th>\n",
       "      <th>Lon</th>\n",
       "      <th>Prov</th>\n",
       "    </tr>\n",
       "  </thead>\n",
       "  <tbody>\n",
       "    <tr>\n",
       "      <th>0</th>\n",
       "      <td>cusensor2/0424D01F9C9C</td>\n",
       "      <td>2023-08-18T14:00:00.000Z</td>\n",
       "      <td>0.0</td>\n",
       "      <td>1.0</td>\n",
       "      <td>29.4</td>\n",
       "      <td>55.0</td>\n",
       "      <td>จามจุรี 5 ชั้น 3</td>\n",
       "      <td>13.738300</td>\n",
       "      <td>100.528816</td>\n",
       "      <td>กรุงเทพ</td>\n",
       "    </tr>\n",
       "    <tr>\n",
       "      <th>1</th>\n",
       "      <td>cusensor2/0C44F5C40A24</td>\n",
       "      <td>2023-08-18T14:00:00.000Z</td>\n",
       "      <td>2.0</td>\n",
       "      <td>7.0</td>\n",
       "      <td>33.4</td>\n",
       "      <td>47.0</td>\n",
       "      <td>จามจุรี 10 ชั้น 11</td>\n",
       "      <td>13.742675</td>\n",
       "      <td>100.528077</td>\n",
       "      <td>กรุงเทพ</td>\n",
       "    </tr>\n",
       "    <tr>\n",
       "      <th>2</th>\n",
       "      <td>cusensor2/40F5203F0828</td>\n",
       "      <td>2023-08-18T14:00:00.000Z</td>\n",
       "      <td>3.0</td>\n",
       "      <td>8.0</td>\n",
       "      <td>26.9</td>\n",
       "      <td>78.0</td>\n",
       "      <td>ห้องปฏิบัติการเคมี สถาบันวิจัยสภาวะแวดล้อม (In...</td>\n",
       "      <td>13.742930</td>\n",
       "      <td>100.532150</td>\n",
       "      <td>กรุงเทพ</td>\n",
       "    </tr>\n",
       "    <tr>\n",
       "      <th>3</th>\n",
       "      <td>cusensor2/40F5203F7FBF</td>\n",
       "      <td>2023-08-18T14:00:00.000Z</td>\n",
       "      <td>2.0</td>\n",
       "      <td>6.0</td>\n",
       "      <td>29.1</td>\n",
       "      <td>43.0</td>\n",
       "      <td>ภาควิชาเคมีเทคนิค ชั้น ห้อง 1810 อาคารมหามกุฎ ...</td>\n",
       "      <td>13.736020</td>\n",
       "      <td>100.530590</td>\n",
       "      <td>กรุงเทพ</td>\n",
       "    </tr>\n",
       "    <tr>\n",
       "      <th>4</th>\n",
       "      <td>cusensor2/40F5203F88E0</td>\n",
       "      <td>2023-08-18T14:00:00.000Z</td>\n",
       "      <td>2.0</td>\n",
       "      <td>7.0</td>\n",
       "      <td>26.2</td>\n",
       "      <td>62.0</td>\n",
       "      <td>EDS Program (Indoor)</td>\n",
       "      <td>13.742830</td>\n",
       "      <td>100.528250</td>\n",
       "      <td>กรุงเทพ</td>\n",
       "    </tr>\n",
       "    <tr>\n",
       "      <th>...</th>\n",
       "      <td>...</td>\n",
       "      <td>...</td>\n",
       "      <td>...</td>\n",
       "      <td>...</td>\n",
       "      <td>...</td>\n",
       "      <td>...</td>\n",
       "      <td>...</td>\n",
       "      <td>...</td>\n",
       "      <td>...</td>\n",
       "      <td>...</td>\n",
       "    </tr>\n",
       "    <tr>\n",
       "      <th>245</th>\n",
       "      <td>nansensor/CU-S0071</td>\n",
       "      <td>2023-08-18T14:00:00.000Z</td>\n",
       "      <td>0.0</td>\n",
       "      <td>0.0</td>\n",
       "      <td>37.4</td>\n",
       "      <td>49.0</td>\n",
       "      <td>องค์การบริหารส่วนจังหวัดน่าน</td>\n",
       "      <td>18.799662</td>\n",
       "      <td>100.733299</td>\n",
       "      <td>น่าน</td>\n",
       "    </tr>\n",
       "    <tr>\n",
       "      <th>246</th>\n",
       "      <td>nansensor/CU-S0079</td>\n",
       "      <td>2023-08-18T14:00:00.000Z</td>\n",
       "      <td>6.0</td>\n",
       "      <td>7.0</td>\n",
       "      <td>34.8</td>\n",
       "      <td>55.0</td>\n",
       "      <td>องค์การบริหารส่วนตำบลสันทะ</td>\n",
       "      <td>18.300600</td>\n",
       "      <td>100.594360</td>\n",
       "      <td>น่าน</td>\n",
       "    </tr>\n",
       "    <tr>\n",
       "      <th>247</th>\n",
       "      <td>nansensor/CU-S0081</td>\n",
       "      <td>2023-08-18T14:00:00.000Z</td>\n",
       "      <td>8.0</td>\n",
       "      <td>8.0</td>\n",
       "      <td>35.9</td>\n",
       "      <td>60.0</td>\n",
       "      <td>องค์การบริหารส่วนตำบลดุ่พงษ์</td>\n",
       "      <td>18.910000</td>\n",
       "      <td>100.940000</td>\n",
       "      <td>น่าน</td>\n",
       "    </tr>\n",
       "    <tr>\n",
       "      <th>248</th>\n",
       "      <td>nansensor/CU-S0085</td>\n",
       "      <td>2023-08-18T14:00:00.000Z</td>\n",
       "      <td>6.0</td>\n",
       "      <td>7.0</td>\n",
       "      <td>36.6</td>\n",
       "      <td>59.0</td>\n",
       "      <td>องค์การบริหารส่วนตำบลถืมตอง</td>\n",
       "      <td>18.797941</td>\n",
       "      <td>100.714249</td>\n",
       "      <td>น่าน</td>\n",
       "    </tr>\n",
       "    <tr>\n",
       "      <th>249</th>\n",
       "      <td>nansensor/CU-S0098</td>\n",
       "      <td>2023-08-18T14:00:00.000Z</td>\n",
       "      <td>10.0</td>\n",
       "      <td>10.0</td>\n",
       "      <td>36.1</td>\n",
       "      <td>60.0</td>\n",
       "      <td>องค์การบริหารส่วนตำบลน้ำเกี้ยน</td>\n",
       "      <td>18.732440</td>\n",
       "      <td>100.824770</td>\n",
       "      <td>น่าน</td>\n",
       "    </tr>\n",
       "  </tbody>\n",
       "</table>\n",
       "<p>250 rows × 10 columns</p>\n",
       "</div>"
      ],
      "text/plain": [
       "                     Sensor                      Time  PM2.5  PM10  Temp  \\\n",
       "0    cusensor2/0424D01F9C9C  2023-08-18T14:00:00.000Z    0.0   1.0  29.4   \n",
       "1    cusensor2/0C44F5C40A24  2023-08-18T14:00:00.000Z    2.0   7.0  33.4   \n",
       "2    cusensor2/40F5203F0828  2023-08-18T14:00:00.000Z    3.0   8.0  26.9   \n",
       "3    cusensor2/40F5203F7FBF  2023-08-18T14:00:00.000Z    2.0   6.0  29.1   \n",
       "4    cusensor2/40F5203F88E0  2023-08-18T14:00:00.000Z    2.0   7.0  26.2   \n",
       "..                      ...                       ...    ...   ...   ...   \n",
       "245      nansensor/CU-S0071  2023-08-18T14:00:00.000Z    0.0   0.0  37.4   \n",
       "246      nansensor/CU-S0079  2023-08-18T14:00:00.000Z    6.0   7.0  34.8   \n",
       "247      nansensor/CU-S0081  2023-08-18T14:00:00.000Z    8.0   8.0  35.9   \n",
       "248      nansensor/CU-S0085  2023-08-18T14:00:00.000Z    6.0   7.0  36.6   \n",
       "249      nansensor/CU-S0098  2023-08-18T14:00:00.000Z   10.0  10.0  36.1   \n",
       "\n",
       "     Humid                                               Name        Lat  \\\n",
       "0     55.0                                   จามจุรี 5 ชั้น 3  13.738300   \n",
       "1     47.0                                 จามจุรี 10 ชั้น 11  13.742675   \n",
       "2     78.0  ห้องปฏิบัติการเคมี สถาบันวิจัยสภาวะแวดล้อม (In...  13.742930   \n",
       "3     43.0  ภาควิชาเคมีเทคนิค ชั้น ห้อง 1810 อาคารมหามกุฎ ...  13.736020   \n",
       "4     62.0                               EDS Program (Indoor)  13.742830   \n",
       "..     ...                                                ...        ...   \n",
       "245   49.0                       องค์การบริหารส่วนจังหวัดน่าน  18.799662   \n",
       "246   55.0                         องค์การบริหารส่วนตำบลสันทะ  18.300600   \n",
       "247   60.0                       องค์การบริหารส่วนตำบลดุ่พงษ์  18.910000   \n",
       "248   59.0                        องค์การบริหารส่วนตำบลถืมตอง  18.797941   \n",
       "249   60.0                     องค์การบริหารส่วนตำบลน้ำเกี้ยน  18.732440   \n",
       "\n",
       "            Lon     Prov  \n",
       "0    100.528816  กรุงเทพ  \n",
       "1    100.528077  กรุงเทพ  \n",
       "2    100.532150  กรุงเทพ  \n",
       "3    100.530590  กรุงเทพ  \n",
       "4    100.528250  กรุงเทพ  \n",
       "..          ...      ...  \n",
       "245  100.733299     น่าน  \n",
       "246  100.594360     น่าน  \n",
       "247  100.940000     น่าน  \n",
       "248  100.714249     น่าน  \n",
       "249  100.824770     น่าน  \n",
       "\n",
       "[250 rows x 10 columns]"
      ]
     },
     "execution_count": 12,
     "metadata": {},
     "output_type": "execute_result"
    }
   ],
   "source": [
    "merge2"
   ]
  },
  {
   "cell_type": "markdown",
   "id": "be7b33b6",
   "metadata": {
    "papermill": {
     "duration": 0.010976,
     "end_time": "2023-08-21T04:52:29.486839",
     "exception": false,
     "start_time": "2023-08-21T04:52:29.475863",
     "status": "completed"
    },
    "tags": []
   },
   "source": [
    "We see that PM2.5 data is gathered by some provinces mostly in Nan and Bangkok. So, in the next process, the analysis will consider this condition."
   ]
  },
  {
   "cell_type": "code",
   "execution_count": 13,
   "id": "a3659854",
   "metadata": {
    "execution": {
     "iopub.execute_input": "2023-08-21T04:52:29.511143Z",
     "iopub.status.busy": "2023-08-21T04:52:29.510759Z",
     "iopub.status.idle": "2023-08-21T04:52:29.517664Z",
     "shell.execute_reply": "2023-08-21T04:52:29.516897Z"
    },
    "papermill": {
     "duration": 0.021592,
     "end_time": "2023-08-21T04:52:29.519624",
     "exception": false,
     "start_time": "2023-08-21T04:52:29.498032",
     "status": "completed"
    },
    "tags": []
   },
   "outputs": [
    {
     "data": {
      "text/plain": [
       "Sensor     object\n",
       "Time       object\n",
       "PM2.5     float64\n",
       "PM10      float64\n",
       "Temp      float64\n",
       "Humid     float64\n",
       "Name       object\n",
       "Lat       float64\n",
       "Lon       float64\n",
       "Prov       object\n",
       "dtype: object"
      ]
     },
     "execution_count": 13,
     "metadata": {},
     "output_type": "execute_result"
    }
   ],
   "source": [
    "# check for types\n",
    "merge2.dtypes"
   ]
  },
  {
   "cell_type": "markdown",
   "id": "a117574f",
   "metadata": {
    "papermill": {
     "duration": 0.011191,
     "end_time": "2023-08-21T04:52:29.542323",
     "exception": false,
     "start_time": "2023-08-21T04:52:29.531132",
     "status": "completed"
    },
    "tags": []
   },
   "source": [
    "replace Nan Humidity Values with its average"
   ]
  },
  {
   "cell_type": "code",
   "execution_count": 14,
   "id": "6f38140d",
   "metadata": {
    "execution": {
     "iopub.execute_input": "2023-08-21T04:52:29.567306Z",
     "iopub.status.busy": "2023-08-21T04:52:29.566301Z",
     "iopub.status.idle": "2023-08-21T04:52:29.573511Z",
     "shell.execute_reply": "2023-08-21T04:52:29.572740Z"
    },
    "papermill": {
     "duration": 0.021992,
     "end_time": "2023-08-21T04:52:29.575628",
     "exception": false,
     "start_time": "2023-08-21T04:52:29.553636",
     "status": "completed"
    },
    "tags": []
   },
   "outputs": [],
   "source": [
    "merge2['Humid'] = merge2['Humid'].fillna(round(merge2['Humid'].mean(),1))"
   ]
  },
  {
   "cell_type": "markdown",
   "id": "774791b2",
   "metadata": {
    "papermill": {
     "duration": 0.011436,
     "end_time": "2023-08-21T04:52:29.598559",
     "exception": false,
     "start_time": "2023-08-21T04:52:29.587123",
     "status": "completed"
    },
    "tags": []
   },
   "source": [
    "# **Checking its distribution of every features**"
   ]
  },
  {
   "cell_type": "code",
   "execution_count": 15,
   "id": "d4ef05a2",
   "metadata": {
    "execution": {
     "iopub.execute_input": "2023-08-21T04:52:29.623525Z",
     "iopub.status.busy": "2023-08-21T04:52:29.622882Z",
     "iopub.status.idle": "2023-08-21T04:52:30.983814Z",
     "shell.execute_reply": "2023-08-21T04:52:30.982701Z"
    },
    "papermill": {
     "duration": 1.376317,
     "end_time": "2023-08-21T04:52:30.986166",
     "exception": false,
     "start_time": "2023-08-21T04:52:29.609849",
     "status": "completed"
    },
    "tags": []
   },
   "outputs": [
    {
     "data": {
      "image/png": "[encoded data removed]",
      "text/plain": [
       "<Figure size 1500x1000 with 6 Axes>"
      ]
     },
     "metadata": {},
     "output_type": "display_data"
    }
   ],
   "source": [
    "merge2.hist(bins=10,figsize=(15,10),grid=False);"
   ]
  },
  {
   "cell_type": "markdown",
   "id": "5586ed35",
   "metadata": {
    "papermill": {
     "duration": 0.011494,
     "end_time": "2023-08-21T04:52:31.009566",
     "exception": false,
     "start_time": "2023-08-21T04:52:30.998072",
     "status": "completed"
    },
    "tags": []
   },
   "source": [
    "Let see which are **top five the most polluted and the least polluted areas.** (PM2.5)"
   ]
  },
  {
   "cell_type": "code",
   "execution_count": 16,
   "id": "c921ee9a",
   "metadata": {
    "execution": {
     "iopub.execute_input": "2023-08-21T04:52:31.035178Z",
     "iopub.status.busy": "2023-08-21T04:52:31.034530Z",
     "iopub.status.idle": "2023-08-21T04:52:31.052785Z",
     "shell.execute_reply": "2023-08-21T04:52:31.051700Z"
    },
    "papermill": {
     "duration": 0.033503,
     "end_time": "2023-08-21T04:52:31.054913",
     "exception": false,
     "start_time": "2023-08-21T04:52:31.021410",
     "status": "completed"
    },
    "tags": []
   },
   "outputs": [
    {
     "data": {
      "text/html": [
       "<div>\n",
       "<style scoped>\n",
       "    .dataframe tbody tr th:only-of-type {\n",
       "        vertical-align: middle;\n",
       "    }\n",
       "\n",
       "    .dataframe tbody tr th {\n",
       "        vertical-align: top;\n",
       "    }\n",
       "\n",
       "    .dataframe thead th {\n",
       "        text-align: right;\n",
       "    }\n",
       "</style>\n",
       "<table border=\"1\" class=\"dataframe\">\n",
       "  <thead>\n",
       "    <tr style=\"text-align: right;\">\n",
       "      <th></th>\n",
       "      <th>Sensor</th>\n",
       "      <th>Time</th>\n",
       "      <th>PM2.5</th>\n",
       "      <th>PM10</th>\n",
       "      <th>Temp</th>\n",
       "      <th>Humid</th>\n",
       "      <th>Name</th>\n",
       "      <th>Lat</th>\n",
       "      <th>Lon</th>\n",
       "      <th>Prov</th>\n",
       "    </tr>\n",
       "  </thead>\n",
       "  <tbody>\n",
       "    <tr>\n",
       "      <th>177</th>\n",
       "      <td>Dustboy/5302</td>\n",
       "      <td>2023-08-18T14:00:00.000Z</td>\n",
       "      <td>291.0</td>\n",
       "      <td>333.0</td>\n",
       "      <td>33.0</td>\n",
       "      <td>95.0</td>\n",
       "      <td>รพ.สต. บ้านดงมะตื๋น (บ้านดงมะตื๋นใหม่ หมู่ 15)</td>\n",
       "      <td>19.916302</td>\n",
       "      <td>100.040937</td>\n",
       "      <td>NaN</td>\n",
       "    </tr>\n",
       "    <tr>\n",
       "      <th>16</th>\n",
       "      <td>cusensor3/240AC4588CF8</td>\n",
       "      <td>2023-08-18T14:00:00.000Z</td>\n",
       "      <td>80.0</td>\n",
       "      <td>92.0</td>\n",
       "      <td>30.7</td>\n",
       "      <td>82.0</td>\n",
       "      <td>โรงเรียนสา (1)</td>\n",
       "      <td>18.560438</td>\n",
       "      <td>100.752007</td>\n",
       "      <td>น่าน</td>\n",
       "    </tr>\n",
       "    <tr>\n",
       "      <th>204</th>\n",
       "      <td>Dustboy/5401</td>\n",
       "      <td>2023-08-18T14:00:00.000Z</td>\n",
       "      <td>61.0</td>\n",
       "      <td>77.0</td>\n",
       "      <td>NaN</td>\n",
       "      <td>48.8</td>\n",
       "      <td>อบต.ศรีถ้อย อ.แม่สรวย จ.เชียงราย (กอ.รมน. เชีย...</td>\n",
       "      <td>19.614124</td>\n",
       "      <td>99.478223</td>\n",
       "      <td>NaN</td>\n",
       "    </tr>\n",
       "    <tr>\n",
       "      <th>175</th>\n",
       "      <td>Dustboy/5300</td>\n",
       "      <td>2023-08-18T14:00:00.000Z</td>\n",
       "      <td>51.0</td>\n",
       "      <td>54.0</td>\n",
       "      <td>35.0</td>\n",
       "      <td>69.0</td>\n",
       "      <td>โรงพยาบาลโซ่พิสัย</td>\n",
       "      <td>18.081075</td>\n",
       "      <td>103.447313</td>\n",
       "      <td>NaN</td>\n",
       "    </tr>\n",
       "    <tr>\n",
       "      <th>45</th>\n",
       "      <td>cusensor3/B8F009CD07DC</td>\n",
       "      <td>2023-08-18T14:00:00.000Z</td>\n",
       "      <td>42.0</td>\n",
       "      <td>48.0</td>\n",
       "      <td>30.8</td>\n",
       "      <td>78.0</td>\n",
       "      <td>โรงเรียนบ้านนาวงศ์</td>\n",
       "      <td>19.168417</td>\n",
       "      <td>100.828003</td>\n",
       "      <td>น่าน</td>\n",
       "    </tr>\n",
       "  </tbody>\n",
       "</table>\n",
       "</div>"
      ],
      "text/plain": [
       "                     Sensor                      Time  PM2.5   PM10  Temp  \\\n",
       "177            Dustboy/5302  2023-08-18T14:00:00.000Z  291.0  333.0  33.0   \n",
       "16   cusensor3/240AC4588CF8  2023-08-18T14:00:00.000Z   80.0   92.0  30.7   \n",
       "204            Dustboy/5401  2023-08-18T14:00:00.000Z   61.0   77.0   NaN   \n",
       "175            Dustboy/5300  2023-08-18T14:00:00.000Z   51.0   54.0  35.0   \n",
       "45   cusensor3/B8F009CD07DC  2023-08-18T14:00:00.000Z   42.0   48.0  30.8   \n",
       "\n",
       "     Humid                                               Name        Lat  \\\n",
       "177   95.0     รพ.สต. บ้านดงมะตื๋น (บ้านดงมะตื๋นใหม่ หมู่ 15)  19.916302   \n",
       "16    82.0                                     โรงเรียนสา (1)  18.560438   \n",
       "204   48.8  อบต.ศรีถ้อย อ.แม่สรวย จ.เชียงราย (กอ.รมน. เชีย...  19.614124   \n",
       "175   69.0                                  โรงพยาบาลโซ่พิสัย  18.081075   \n",
       "45    78.0                                 โรงเรียนบ้านนาวงศ์  19.168417   \n",
       "\n",
       "            Lon  Prov  \n",
       "177  100.040937   NaN  \n",
       "16   100.752007  น่าน  \n",
       "204   99.478223   NaN  \n",
       "175  103.447313   NaN  \n",
       "45   100.828003  น่าน  "
      ]
     },
     "execution_count": 16,
     "metadata": {},
     "output_type": "execute_result"
    }
   ],
   "source": [
    "Top5 = merge2.sort_values(by='PM2.5', ascending=False).head(5)\n",
    "Top5"
   ]
  },
  {
   "cell_type": "code",
   "execution_count": 17,
   "id": "8c40c6d7",
   "metadata": {
    "execution": {
     "iopub.execute_input": "2023-08-21T04:52:31.081274Z",
     "iopub.status.busy": "2023-08-21T04:52:31.080641Z",
     "iopub.status.idle": "2023-08-21T04:52:31.097428Z",
     "shell.execute_reply": "2023-08-21T04:52:31.096304Z"
    },
    "papermill": {
     "duration": 0.032515,
     "end_time": "2023-08-21T04:52:31.099656",
     "exception": false,
     "start_time": "2023-08-21T04:52:31.067141",
     "status": "completed"
    },
    "tags": []
   },
   "outputs": [
    {
     "data": {
      "text/html": [
       "<div>\n",
       "<style scoped>\n",
       "    .dataframe tbody tr th:only-of-type {\n",
       "        vertical-align: middle;\n",
       "    }\n",
       "\n",
       "    .dataframe tbody tr th {\n",
       "        vertical-align: top;\n",
       "    }\n",
       "\n",
       "    .dataframe thead th {\n",
       "        text-align: right;\n",
       "    }\n",
       "</style>\n",
       "<table border=\"1\" class=\"dataframe\">\n",
       "  <thead>\n",
       "    <tr style=\"text-align: right;\">\n",
       "      <th></th>\n",
       "      <th>Sensor</th>\n",
       "      <th>Time</th>\n",
       "      <th>PM2.5</th>\n",
       "      <th>PM10</th>\n",
       "      <th>Temp</th>\n",
       "      <th>Humid</th>\n",
       "      <th>Name</th>\n",
       "      <th>Lat</th>\n",
       "      <th>Lon</th>\n",
       "      <th>Prov</th>\n",
       "    </tr>\n",
       "  </thead>\n",
       "  <tbody>\n",
       "    <tr>\n",
       "      <th>0</th>\n",
       "      <td>cusensor2/0424D01F9C9C</td>\n",
       "      <td>2023-08-18T14:00:00.000Z</td>\n",
       "      <td>0.0</td>\n",
       "      <td>1.0</td>\n",
       "      <td>29.4</td>\n",
       "      <td>55.0</td>\n",
       "      <td>จามจุรี 5 ชั้น 3</td>\n",
       "      <td>13.738300</td>\n",
       "      <td>100.528816</td>\n",
       "      <td>กรุงเทพ</td>\n",
       "    </tr>\n",
       "    <tr>\n",
       "      <th>43</th>\n",
       "      <td>cusensor3/8CAAB5852984</td>\n",
       "      <td>2023-08-18T14:00:00.000Z</td>\n",
       "      <td>0.0</td>\n",
       "      <td>0.0</td>\n",
       "      <td>33.2</td>\n",
       "      <td>48.0</td>\n",
       "      <td>ทต.ก้อ</td>\n",
       "      <td>17.639110</td>\n",
       "      <td>98.785331</td>\n",
       "      <td>ลำพูน</td>\n",
       "    </tr>\n",
       "    <tr>\n",
       "      <th>41</th>\n",
       "      <td>cusensor3/8CAAB5851AD4</td>\n",
       "      <td>2023-08-18T14:00:00.000Z</td>\n",
       "      <td>0.0</td>\n",
       "      <td>0.0</td>\n",
       "      <td>29.6</td>\n",
       "      <td>59.0</td>\n",
       "      <td>อุทยานแห่งชาติแม่ปิง</td>\n",
       "      <td>17.669825</td>\n",
       "      <td>98.869539</td>\n",
       "      <td>ลำพูน</td>\n",
       "    </tr>\n",
       "    <tr>\n",
       "      <th>20</th>\n",
       "      <td>cusensor3/240AC4C656F8</td>\n",
       "      <td>2023-08-18T14:00:00.000Z</td>\n",
       "      <td>0.0</td>\n",
       "      <td>0.0</td>\n",
       "      <td>36.4</td>\n",
       "      <td>54.0</td>\n",
       "      <td>วิทยนิเวศน์</td>\n",
       "      <td>13.740698</td>\n",
       "      <td>100.527156</td>\n",
       "      <td>กรุงเทพ</td>\n",
       "    </tr>\n",
       "    <tr>\n",
       "      <th>245</th>\n",
       "      <td>nansensor/CU-S0071</td>\n",
       "      <td>2023-08-18T14:00:00.000Z</td>\n",
       "      <td>0.0</td>\n",
       "      <td>0.0</td>\n",
       "      <td>37.4</td>\n",
       "      <td>49.0</td>\n",
       "      <td>องค์การบริหารส่วนจังหวัดน่าน</td>\n",
       "      <td>18.799662</td>\n",
       "      <td>100.733299</td>\n",
       "      <td>น่าน</td>\n",
       "    </tr>\n",
       "  </tbody>\n",
       "</table>\n",
       "</div>"
      ],
      "text/plain": [
       "                     Sensor                      Time  PM2.5  PM10  Temp  \\\n",
       "0    cusensor2/0424D01F9C9C  2023-08-18T14:00:00.000Z    0.0   1.0  29.4   \n",
       "43   cusensor3/8CAAB5852984  2023-08-18T14:00:00.000Z    0.0   0.0  33.2   \n",
       "41   cusensor3/8CAAB5851AD4  2023-08-18T14:00:00.000Z    0.0   0.0  29.6   \n",
       "20   cusensor3/240AC4C656F8  2023-08-18T14:00:00.000Z    0.0   0.0  36.4   \n",
       "245      nansensor/CU-S0071  2023-08-18T14:00:00.000Z    0.0   0.0  37.4   \n",
       "\n",
       "     Humid                          Name        Lat         Lon     Prov  \n",
       "0     55.0              จามจุรี 5 ชั้น 3  13.738300  100.528816  กรุงเทพ  \n",
       "43    48.0                        ทต.ก้อ  17.639110   98.785331    ลำพูน  \n",
       "41    59.0          อุทยานแห่งชาติแม่ปิง  17.669825   98.869539    ลำพูน  \n",
       "20    54.0                   วิทยนิเวศน์  13.740698  100.527156  กรุงเทพ  \n",
       "245   49.0  องค์การบริหารส่วนจังหวัดน่าน  18.799662  100.733299     น่าน  "
      ]
     },
     "execution_count": 17,
     "metadata": {},
     "output_type": "execute_result"
    }
   ],
   "source": [
    "Least5 = merge2.sort_values(by='PM2.5', ascending=True).head(5)\n",
    "Least5"
   ]
  },
  {
   "cell_type": "markdown",
   "id": "b65838e0",
   "metadata": {
    "papermill": {
     "duration": 0.011998,
     "end_time": "2023-08-21T04:52:31.123943",
     "exception": false,
     "start_time": "2023-08-21T04:52:31.111945",
     "status": "completed"
    },
    "tags": []
   },
   "source": [
    "linear correlations of the data"
   ]
  },
  {
   "cell_type": "code",
   "execution_count": 18,
   "id": "946df748",
   "metadata": {
    "execution": {
     "iopub.execute_input": "2023-08-21T04:52:31.150941Z",
     "iopub.status.busy": "2023-08-21T04:52:31.150330Z",
     "iopub.status.idle": "2023-08-21T04:52:31.508088Z",
     "shell.execute_reply": "2023-08-21T04:52:31.507320Z"
    },
    "papermill": {
     "duration": 0.374058,
     "end_time": "2023-08-21T04:52:31.510442",
     "exception": false,
     "start_time": "2023-08-21T04:52:31.136384",
     "status": "completed"
    },
    "tags": []
   },
   "outputs": [
    {
     "name": "stderr",
     "output_type": "stream",
     "text": [
      "/tmp/ipykernel_20/2237375264.py:1: FutureWarning: The default value of numeric_only in DataFrame.corr is deprecated. In a future version, it will default to False. Select only valid columns or specify the value of numeric_only to silence this warning.\n",
      "  cor = merge2.corr()\n"
     ]
    },
    {
     "data": {
      "image/png": "[encoded data removed]",
      "text/plain": [
       "<Figure size 640x480 with 2 Axes>"
      ]
     },
     "metadata": {},
     "output_type": "display_data"
    }
   ],
   "source": [
    "cor = merge2.corr()\n",
    "sns.heatmap(cor, annot=True, cmap=\"YlGnBu\")\n",
    "plt.show()"
   ]
  },
  {
   "cell_type": "markdown",
   "id": "658da998",
   "metadata": {
    "papermill": {
     "duration": 0.012988,
     "end_time": "2023-08-21T04:52:31.537513",
     "exception": false,
     "start_time": "2023-08-21T04:52:31.524525",
     "status": "completed"
    },
    "tags": []
   },
   "source": [
    "We see that the humidity doesn't affect the pollution much. The latitude tend to be. The analysis with mainly focus on the correlation between them by creating different **Linear Regression Models.**  "
   ]
  },
  {
   "cell_type": "markdown",
   "id": "04c6d236",
   "metadata": {
    "papermill": {
     "duration": 0.012872,
     "end_time": "2023-08-21T04:52:31.563588",
     "exception": false,
     "start_time": "2023-08-21T04:52:31.550716",
     "status": "completed"
    },
    "tags": []
   },
   "source": [
    "# **Model Creating**"
   ]
  },
  {
   "cell_type": "markdown",
   "id": "7a0e14fa",
   "metadata": {
    "papermill": {
     "duration": 0.012869,
     "end_time": "2023-08-21T04:52:31.589678",
     "exception": false,
     "start_time": "2023-08-21T04:52:31.576809",
     "status": "completed"
    },
    "tags": []
   },
   "source": [
    "The model we use in this notebook are:\n",
    "* Linear Regression Model\n",
    "* XGBoost"
   ]
  },
  {
   "cell_type": "markdown",
   "id": "7d2b1bd4",
   "metadata": {
    "papermill": {
     "duration": 0.01327,
     "end_time": "2023-08-21T04:52:31.616105",
     "exception": false,
     "start_time": "2023-08-21T04:52:31.602835",
     "status": "completed"
    },
    "tags": []
   },
   "source": [
    "**Linear Regression Model (Sklearn)**"
   ]
  },
  {
   "cell_type": "code",
   "execution_count": 19,
   "id": "d368e949",
   "metadata": {
    "execution": {
     "iopub.execute_input": "2023-08-21T04:52:31.644391Z",
     "iopub.status.busy": "2023-08-21T04:52:31.643971Z",
     "iopub.status.idle": "2023-08-21T04:52:31.651779Z",
     "shell.execute_reply": "2023-08-21T04:52:31.650341Z"
    },
    "papermill": {
     "duration": 0.024658,
     "end_time": "2023-08-21T04:52:31.653880",
     "exception": false,
     "start_time": "2023-08-21T04:52:31.629222",
     "status": "completed"
    },
    "tags": []
   },
   "outputs": [
    {
     "name": "stdout",
     "output_type": "stream",
     "text": [
      "(250, 3)\n",
      "(250,)\n"
     ]
    }
   ],
   "source": [
    "# extract features (sigificant) amd target\n",
    "x = merge2[['Lat','Lon','Humid']]\n",
    "y = merge2[\"PM2.5\"]\n",
    "print(x.shape)\n",
    "print(y.shape)"
   ]
  },
  {
   "cell_type": "code",
   "execution_count": 20,
   "id": "0705fa3f",
   "metadata": {
    "execution": {
     "iopub.execute_input": "2023-08-21T04:52:31.683406Z",
     "iopub.status.busy": "2023-08-21T04:52:31.682125Z",
     "iopub.status.idle": "2023-08-21T04:52:31.689625Z",
     "shell.execute_reply": "2023-08-21T04:52:31.688508Z"
    },
    "papermill": {
     "duration": 0.024295,
     "end_time": "2023-08-21T04:52:31.691753",
     "exception": false,
     "start_time": "2023-08-21T04:52:31.667458",
     "status": "completed"
    },
    "tags": []
   },
   "outputs": [],
   "source": [
    "from sklearn.model_selection import train_test_split\n",
    "#testing data size is of 33% of entire data\n",
    "x_train, x_test, y_train, y_test =train_test_split(x,y, test_size=0.33, random_state=5)"
   ]
  },
  {
   "cell_type": "code",
   "execution_count": 21,
   "id": "3d3db4af",
   "metadata": {
    "execution": {
     "iopub.execute_input": "2023-08-21T04:52:31.720681Z",
     "iopub.status.busy": "2023-08-21T04:52:31.720237Z",
     "iopub.status.idle": "2023-08-21T04:52:31.733413Z",
     "shell.execute_reply": "2023-08-21T04:52:31.732623Z"
    },
    "papermill": {
     "duration": 0.030147,
     "end_time": "2023-08-21T04:52:31.735387",
     "exception": false,
     "start_time": "2023-08-21T04:52:31.705240",
     "status": "completed"
    },
    "tags": []
   },
   "outputs": [
    {
     "data": {
      "text/html": [
       "<div>\n",
       "<style scoped>\n",
       "    .dataframe tbody tr th:only-of-type {\n",
       "        vertical-align: middle;\n",
       "    }\n",
       "\n",
       "    .dataframe tbody tr th {\n",
       "        vertical-align: top;\n",
       "    }\n",
       "\n",
       "    .dataframe thead th {\n",
       "        text-align: right;\n",
       "    }\n",
       "</style>\n",
       "<table border=\"1\" class=\"dataframe\">\n",
       "  <thead>\n",
       "    <tr style=\"text-align: right;\">\n",
       "      <th></th>\n",
       "      <th>Lat</th>\n",
       "      <th>Lon</th>\n",
       "      <th>Humid</th>\n",
       "    </tr>\n",
       "  </thead>\n",
       "  <tbody>\n",
       "    <tr>\n",
       "      <th>202</th>\n",
       "      <td>19.441691</td>\n",
       "      <td>98.984482</td>\n",
       "      <td>48.8</td>\n",
       "    </tr>\n",
       "    <tr>\n",
       "      <th>50</th>\n",
       "      <td>18.775246</td>\n",
       "      <td>100.687514</td>\n",
       "      <td>72.0</td>\n",
       "    </tr>\n",
       "    <tr>\n",
       "      <th>23</th>\n",
       "      <td>13.742292</td>\n",
       "      <td>100.533517</td>\n",
       "      <td>61.0</td>\n",
       "    </tr>\n",
       "    <tr>\n",
       "      <th>1</th>\n",
       "      <td>13.742675</td>\n",
       "      <td>100.528077</td>\n",
       "      <td>47.0</td>\n",
       "    </tr>\n",
       "    <tr>\n",
       "      <th>87</th>\n",
       "      <td>19.511812</td>\n",
       "      <td>98.514438</td>\n",
       "      <td>0.0</td>\n",
       "    </tr>\n",
       "    <tr>\n",
       "      <th>...</th>\n",
       "      <td>...</td>\n",
       "      <td>...</td>\n",
       "      <td>...</td>\n",
       "    </tr>\n",
       "    <tr>\n",
       "      <th>230</th>\n",
       "      <td>18.761371</td>\n",
       "      <td>98.931855</td>\n",
       "      <td>0.0</td>\n",
       "    </tr>\n",
       "    <tr>\n",
       "      <th>189</th>\n",
       "      <td>13.267923</td>\n",
       "      <td>99.592925</td>\n",
       "      <td>48.8</td>\n",
       "    </tr>\n",
       "    <tr>\n",
       "      <th>239</th>\n",
       "      <td>19.208550</td>\n",
       "      <td>101.185284</td>\n",
       "      <td>64.0</td>\n",
       "    </tr>\n",
       "    <tr>\n",
       "      <th>206</th>\n",
       "      <td>19.167872</td>\n",
       "      <td>100.284061</td>\n",
       "      <td>48.8</td>\n",
       "    </tr>\n",
       "    <tr>\n",
       "      <th>99</th>\n",
       "      <td>13.797405</td>\n",
       "      <td>100.321100</td>\n",
       "      <td>0.0</td>\n",
       "    </tr>\n",
       "  </tbody>\n",
       "</table>\n",
       "<p>167 rows × 3 columns</p>\n",
       "</div>"
      ],
      "text/plain": [
       "           Lat         Lon  Humid\n",
       "202  19.441691   98.984482   48.8\n",
       "50   18.775246  100.687514   72.0\n",
       "23   13.742292  100.533517   61.0\n",
       "1    13.742675  100.528077   47.0\n",
       "87   19.511812   98.514438    0.0\n",
       "..         ...         ...    ...\n",
       "230  18.761371   98.931855    0.0\n",
       "189  13.267923   99.592925   48.8\n",
       "239  19.208550  101.185284   64.0\n",
       "206  19.167872  100.284061   48.8\n",
       "99   13.797405  100.321100    0.0\n",
       "\n",
       "[167 rows x 3 columns]"
      ]
     },
     "execution_count": 21,
     "metadata": {},
     "output_type": "execute_result"
    }
   ],
   "source": [
    "x_train"
   ]
  },
  {
   "cell_type": "code",
   "execution_count": 22,
   "id": "347791e7",
   "metadata": {
    "execution": {
     "iopub.execute_input": "2023-08-21T04:52:31.764971Z",
     "iopub.status.busy": "2023-08-21T04:52:31.763924Z",
     "iopub.status.idle": "2023-08-21T04:52:31.788024Z",
     "shell.execute_reply": "2023-08-21T04:52:31.786940Z"
    },
    "papermill": {
     "duration": 0.041831,
     "end_time": "2023-08-21T04:52:31.790916",
     "exception": false,
     "start_time": "2023-08-21T04:52:31.749085",
     "status": "completed"
    },
    "tags": []
   },
   "outputs": [],
   "source": [
    "from sklearn.linear_model import LinearRegression\n",
    "#fitting our model to train and test\n",
    "lm = LinearRegression()\n",
    "model = lm.fit(x_train,y_train)"
   ]
  },
  {
   "cell_type": "code",
   "execution_count": 23,
   "id": "803c19d0",
   "metadata": {
    "execution": {
     "iopub.execute_input": "2023-08-21T04:52:31.820147Z",
     "iopub.status.busy": "2023-08-21T04:52:31.819774Z",
     "iopub.status.idle": "2023-08-21T04:52:31.825206Z",
     "shell.execute_reply": "2023-08-21T04:52:31.824466Z"
    },
    "papermill": {
     "duration": 0.022637,
     "end_time": "2023-08-21T04:52:31.827364",
     "exception": false,
     "start_time": "2023-08-21T04:52:31.804727",
     "status": "completed"
    },
    "tags": []
   },
   "outputs": [
    {
     "name": "stdout",
     "output_type": "stream",
     "text": [
      "Index(['Lat', 'Lon', 'Humid'], dtype='object')\n",
      "-155.41559194129474\n",
      "[1.88361578 1.30825521 0.12529853]\n"
     ]
    }
   ],
   "source": [
    "print(x.columns)\n",
    "print(model.intercept_)\n",
    "print(model.coef_)"
   ]
  },
  {
   "cell_type": "markdown",
   "id": "bc6dd824",
   "metadata": {
    "papermill": {
     "duration": 0.01346,
     "end_time": "2023-08-21T04:52:31.854519",
     "exception": false,
     "start_time": "2023-08-21T04:52:31.841059",
     "status": "completed"
    },
    "tags": []
   },
   "source": [
    "**PM2.5 = 1.88348022(LAT) + 1.30816118(LON) + 0.12530796(Humid) - 155.40343619788888**"
   ]
  },
  {
   "cell_type": "code",
   "execution_count": 24,
   "id": "c53e29a5",
   "metadata": {
    "execution": {
     "iopub.execute_input": "2023-08-21T04:52:31.884022Z",
     "iopub.status.busy": "2023-08-21T04:52:31.883288Z",
     "iopub.status.idle": "2023-08-21T04:52:31.890120Z",
     "shell.execute_reply": "2023-08-21T04:52:31.889077Z"
    },
    "papermill": {
     "duration": 0.024215,
     "end_time": "2023-08-21T04:52:31.892460",
     "exception": false,
     "start_time": "2023-08-21T04:52:31.868245",
     "status": "completed"
    },
    "tags": []
   },
   "outputs": [],
   "source": [
    "y_pred = model.predict(x_test)"
   ]
  },
  {
   "cell_type": "markdown",
   "id": "7dddac17",
   "metadata": {
    "papermill": {
     "duration": 0.013396,
     "end_time": "2023-08-21T04:52:31.919581",
     "exception": false,
     "start_time": "2023-08-21T04:52:31.906185",
     "status": "completed"
    },
    "tags": []
   },
   "source": [
    "Result Representation"
   ]
  },
  {
   "cell_type": "code",
   "execution_count": 25,
   "id": "4ad5ca97",
   "metadata": {
    "execution": {
     "iopub.execute_input": "2023-08-21T04:52:31.950038Z",
     "iopub.status.busy": "2023-08-21T04:52:31.949531Z",
     "iopub.status.idle": "2023-08-21T04:52:31.960301Z",
     "shell.execute_reply": "2023-08-21T04:52:31.959430Z"
    },
    "papermill": {
     "duration": 0.028235,
     "end_time": "2023-08-21T04:52:31.962300",
     "exception": false,
     "start_time": "2023-08-21T04:52:31.934065",
     "status": "completed"
    },
    "tags": []
   },
   "outputs": [
    {
     "data": {
      "text/html": [
       "<div>\n",
       "<style scoped>\n",
       "    .dataframe tbody tr th:only-of-type {\n",
       "        vertical-align: middle;\n",
       "    }\n",
       "\n",
       "    .dataframe tbody tr th {\n",
       "        vertical-align: top;\n",
       "    }\n",
       "\n",
       "    .dataframe thead th {\n",
       "        text-align: right;\n",
       "    }\n",
       "</style>\n",
       "<table border=\"1\" class=\"dataframe\">\n",
       "  <thead>\n",
       "    <tr style=\"text-align: right;\">\n",
       "      <th></th>\n",
       "      <th>Actual</th>\n",
       "      <th>Predict</th>\n",
       "    </tr>\n",
       "  </thead>\n",
       "  <tbody>\n",
       "    <tr>\n",
       "      <th>93</th>\n",
       "      <td>6.0</td>\n",
       "      <td>20.058808</td>\n",
       "    </tr>\n",
       "    <tr>\n",
       "      <th>153</th>\n",
       "      <td>8.0</td>\n",
       "      <td>8.688524</td>\n",
       "    </tr>\n",
       "    <tr>\n",
       "      <th>199</th>\n",
       "      <td>9.0</td>\n",
       "      <td>17.524822</td>\n",
       "    </tr>\n",
       "    <tr>\n",
       "      <th>88</th>\n",
       "      <td>1.0</td>\n",
       "      <td>18.700190</td>\n",
       "    </tr>\n",
       "    <tr>\n",
       "      <th>185</th>\n",
       "      <td>27.0</td>\n",
       "      <td>10.327485</td>\n",
       "    </tr>\n",
       "  </tbody>\n",
       "</table>\n",
       "</div>"
      ],
      "text/plain": [
       "     Actual    Predict\n",
       "93      6.0  20.058808\n",
       "153     8.0   8.688524\n",
       "199     9.0  17.524822\n",
       "88      1.0  18.700190\n",
       "185    27.0  10.327485"
      ]
     },
     "execution_count": 25,
     "metadata": {},
     "output_type": "execute_result"
    }
   ],
   "source": [
    "pd.DataFrame({\"Actual\": y_test, \"Predict\": y_pred}).head()"
   ]
  },
  {
   "cell_type": "markdown",
   "id": "f68828d1",
   "metadata": {
    "papermill": {
     "duration": 0.015772,
     "end_time": "2023-08-21T04:52:31.992121",
     "exception": false,
     "start_time": "2023-08-21T04:52:31.976349",
     "status": "completed"
    },
    "tags": []
   },
   "source": [
    "The prediction result is not that promising since we see that there is a liitle correlation between those features and target."
   ]
  },
  {
   "cell_type": "code",
   "execution_count": 26,
   "id": "17928e5b",
   "metadata": {
    "execution": {
     "iopub.execute_input": "2023-08-21T04:52:32.022445Z",
     "iopub.status.busy": "2023-08-21T04:52:32.021193Z",
     "iopub.status.idle": "2023-08-21T04:52:32.295507Z",
     "shell.execute_reply": "2023-08-21T04:52:32.294310Z"
    },
    "papermill": {
     "duration": 0.292039,
     "end_time": "2023-08-21T04:52:32.298089",
     "exception": false,
     "start_time": "2023-08-21T04:52:32.006050",
     "status": "completed"
    },
    "tags": []
   },
   "outputs": [
    {
     "data": {
      "text/plain": [
       "Text(0, 0.5, 'Predicted Y')"
      ]
     },
     "execution_count": 26,
     "metadata": {},
     "output_type": "execute_result"
    },
    {
     "data": {
      "image/png": "[encoded data removed]",
      "text/plain": [
       "<Figure size 640x480 with 1 Axes>"
      ]
     },
     "metadata": {},
     "output_type": "display_data"
    }
   ],
   "source": [
    "plt.scatter(y_test,y_pred)\n",
    "plt.xlabel('Y Test')\n",
    "plt.ylabel('Predicted Y')"
   ]
  },
  {
   "cell_type": "markdown",
   "id": "ba00d157",
   "metadata": {
    "papermill": {
     "duration": 0.013859,
     "end_time": "2023-08-21T04:52:32.327068",
     "exception": false,
     "start_time": "2023-08-21T04:52:32.313209",
     "status": "completed"
    },
    "tags": []
   },
   "source": [
    "Evaluation"
   ]
  },
  {
   "cell_type": "code",
   "execution_count": 27,
   "id": "4e6e760a",
   "metadata": {
    "execution": {
     "iopub.execute_input": "2023-08-21T04:52:32.357895Z",
     "iopub.status.busy": "2023-08-21T04:52:32.357023Z",
     "iopub.status.idle": "2023-08-21T04:52:32.364397Z",
     "shell.execute_reply": "2023-08-21T04:52:32.363336Z"
    },
    "papermill": {
     "duration": 0.024874,
     "end_time": "2023-08-21T04:52:32.366327",
     "exception": false,
     "start_time": "2023-08-21T04:52:32.341453",
     "status": "completed"
    },
    "tags": []
   },
   "outputs": [
    {
     "name": "stdout",
     "output_type": "stream",
     "text": [
      "11.054863121080608\n",
      "13.096385542168674\n"
     ]
    }
   ],
   "source": [
    "# calculate RMSE\n",
    "mse = sklearn.metrics.mean_squared_error(y_test, y_pred)\n",
    "print(math.sqrt(mse))\n",
    "print(y_test.mean())"
   ]
  },
  {
   "cell_type": "markdown",
   "id": "188bcddf",
   "metadata": {
    "papermill": {
     "duration": 0.017413,
     "end_time": "2023-08-21T04:52:32.399056",
     "exception": false,
     "start_time": "2023-08-21T04:52:32.381643",
     "status": "completed"
    },
    "tags": []
   },
   "source": [
    "**RMSE = 11.054737952424535** not that good, right? Let see if XGBoost can do it better."
   ]
  },
  {
   "cell_type": "markdown",
   "id": "d2a441f3",
   "metadata": {
    "papermill": {
     "duration": 0.019524,
     "end_time": "2023-08-21T04:52:32.436554",
     "exception": false,
     "start_time": "2023-08-21T04:52:32.417030",
     "status": "completed"
    },
    "tags": []
   },
   "source": [
    " **XGBoost**"
   ]
  },
  {
   "cell_type": "code",
   "execution_count": 28,
   "id": "d682e4c4",
   "metadata": {
    "execution": {
     "iopub.execute_input": "2023-08-21T04:52:32.482338Z",
     "iopub.status.busy": "2023-08-21T04:52:32.480805Z",
     "iopub.status.idle": "2023-08-21T04:52:32.528011Z",
     "shell.execute_reply": "2023-08-21T04:52:32.526952Z"
    },
    "papermill": {
     "duration": 0.074768,
     "end_time": "2023-08-21T04:52:32.530569",
     "exception": false,
     "start_time": "2023-08-21T04:52:32.455801",
     "status": "completed"
    },
    "tags": []
   },
   "outputs": [
    {
     "name": "stdout",
     "output_type": "stream",
     "text": [
      "[04:52:32] WARNING: ../src/objective/regression_obj.cu:213: reg:linear is now deprecated in favor of reg:squarederror.\n",
      "RMSE :  13.662201\n"
     ]
    }
   ],
   "source": [
    "# create an xgboost regression model\n",
    "from xgboost import XGBRegressor\n",
    "model = XGBRegressor(objective ='reg:linear',\n",
    "                  n_estimators = 1, seed = 1)\n",
    "# Fitting the model\n",
    "model.fit(x_train, y_train)\n",
    "  \n",
    "# Predict the model\n",
    "pred = model.predict(x_test)\n",
    "  \n",
    "# RMSE Computation\n",
    "rmse = np.sqrt(sklearn.metrics.mean_squared_error(y_test, pred))\n",
    "print(\"RMSE : % f\" %(rmse))"
   ]
  },
  {
   "cell_type": "markdown",
   "id": "e1eb1483",
   "metadata": {
    "papermill": {
     "duration": 0.01493,
     "end_time": "2023-08-21T04:52:32.560508",
     "exception": false,
     "start_time": "2023-08-21T04:52:32.545578",
     "status": "completed"
    },
    "tags": []
   },
   "source": [
    "**RMSE = 13.662201** a little bit higher than Basic Linear Regression."
   ]
  }
 ],
 "metadata": {
  "kernelspec": {
   "display_name": "Python 3",
   "language": "python",
   "name": "python3"
  },
  "language_info": {
   "codemirror_mode": {
    "name": "ipython",
    "version": 3
   },
   "file_extension": ".py",
   "mimetype": "text/x-python",
   "name": "python",
   "nbconvert_exporter": "python",
   "pygments_lexer": "ipython3",
   "version": "3.10.12"
  },
  "papermill": {
   "default_parameters": {},
   "duration": 50.356453,
   "end_time": "2023-08-21T04:52:33.903060",
   "environment_variables": {},
   "exception": null,
   "input_path": "__notebook__.ipynb",
   "output_path": "__notebook__.ipynb",
   "parameters": {},
   "start_time": "2023-08-21T04:51:43.546607",
   "version": "2.4.0"
  }
 },
 "nbformat": 4,
 "nbformat_minor": 5
}
